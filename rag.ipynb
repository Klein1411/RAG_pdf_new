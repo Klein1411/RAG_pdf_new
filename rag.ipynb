{
 "cells": [
  {
   "cell_type": "markdown",
   "id": "4681f38a",
   "metadata": {},
   "source": [
    "Set-ExecutionPolicy -Scope Process -ExecutionPolicy Bypass\n",
    ".\\venv\\Scripts\\activate"
   ]
  },
  {
   "cell_type": "markdown",
   "id": "2ccc05b0",
   "metadata": {},
   "source": [
    "# RAG System Setup\n",
    "This notebook demonstrates how to set up a Retrieval-Augmented Generation (RAG) system with the following features:\n",
    "\n",
    "- **PDF Reading**: Supports text, tables, and images.\n",
    "- **Vector Database**: Uses Milvus for storing embeddings.\n",
    "- **Embeddings Model**: Local transformer-based model.\n",
    "- **LLM**: Gemini model for language generation."
   ]
  },
  {
   "cell_type": "code",
   "execution_count": 2,
   "id": "b78566ad",
   "metadata": {},
   "outputs": [],
   "source": [
    "# Import necessary libraries\n",
    "from langchain.document_loaders import PyPDFLoader\n",
    "from langchain.embeddings import HuggingFaceEmbeddings\n",
    "from langchain.vectorstores import Milvus\n",
    "from langchain.llms import OpenAI\n",
    "import fitz  # PyMuPDF for PDF processing\n",
    "import pytesseract  # OCR library\n",
    "import pandas as pd\n",
    "from PIL import Image, UnidentifiedImageError\n",
    "from io import BytesIO\n",
    "import os"
   ]
  },
  {
   "cell_type": "code",
   "execution_count": 3,
   "id": "777408ee",
   "metadata": {},
   "outputs": [
    {
     "name": "stdout",
     "output_type": "stream",
     "text": [
      "Index created and collection loaded successfully.\n"
     ]
    }
   ],
   "source": [
    "# Configure Milvus Vector Database\n",
    "from pymilvus import connections, FieldSchema, CollectionSchema, DataType, Collection\n",
    "\n",
    "# Connect to Milvus\n",
    "connections.connect(\"default\", host=\"localhost\", port=\"19530\")\n",
    "\n",
    "# Define schema for the collection\n",
    "fields = [\n",
    "    FieldSchema(name=\"id\", dtype=DataType.INT64, is_primary=True),\n",
    "    FieldSchema(name=\"embedding\", dtype=DataType.FLOAT_VECTOR, dim=768)\n",
    "]\n",
    "schema = CollectionSchema(fields, description=\"Document Embeddings\")\n",
    "\n",
    "# Create collection\n",
    "collection = Collection(name=\"document_embeddings\", schema=schema)\n",
    "\n",
    "# Create an index for the collection\n",
    "index_params = {\n",
    "    \"index_type\": \"IVF_FLAT\",  # Index type\n",
    "    \"metric_type\": \"L2\",       # Distance metric\n",
    "    \"params\": {\"nlist\": 128}   # Number of clusters\n",
    "}\n",
    "collection.create_index(field_name=\"embedding\", index_params=index_params)\n",
    "\n",
    "# Load the collection after creating the index\n",
    "collection.load()\n",
    "\n",
    "print(\"Index created and collection loaded successfully.\")"
   ]
  },
  {
   "cell_type": "code",
   "execution_count": 4,
   "id": "002cf734",
   "metadata": {},
   "outputs": [
    {
     "name": "stdout",
     "output_type": "stream",
     "text": [
      "Successfully loaded 12 documents from the PDF with UTF-8 decoding.\n"
     ]
    }
   ],
   "source": [
    "# Load PDF and extract text using PyPDFLoader with UTF-8 decoding\n",
    "from langchain.document_loaders import PyPDFLoader\n",
    "pdf_path = r\"metric.pdf\"\n",
    "try:\n",
    "    loader = PyPDFLoader(pdf_path)\n",
    "    documents = loader.load()\n",
    "    # Decode text content to UTF-8 to avoid font issues\n",
    "    for doc in documents:\n",
    "        doc.page_content = doc.page_content.encode('utf-8', 'ignore').decode('utf-8')\n",
    "    print(f\"Successfully loaded {len(documents)} documents from the PDF with UTF-8 decoding.\")\n",
    "except FileNotFoundError:\n",
    "    print(f\"The file '{pdf_path}' was not found. Please check the file path.\")\n",
    "    documents = []\n",
    "except Exception as e:\n",
    "    print(f\"An error occurred while loading the PDF file: {e}\")\n",
    "    documents = []"
   ]
  },
  {
   "cell_type": "code",
   "execution_count": 6,
   "id": "88b8756b",
   "metadata": {},
   "outputs": [
    {
     "ename": "NameError",
     "evalue": "name 'pages' is not defined",
     "output_type": "error",
     "traceback": [
      "\u001b[31m---------------------------------------------------------------------------\u001b[39m",
      "\u001b[31mNameError\u001b[39m                                 Traceback (most recent call last)",
      "\u001b[36mCell\u001b[39m\u001b[36m \u001b[39m\u001b[32mIn[6]\u001b[39m\u001b[32m, line 13\u001b[39m\n\u001b[32m      9\u001b[39m load_dotenv()\n\u001b[32m     11\u001b[39m ocr_results = []\n\u001b[32m---> \u001b[39m\u001b[32m13\u001b[39m \u001b[38;5;28;01mfor\u001b[39;00m page_index, page_image \u001b[38;5;129;01min\u001b[39;00m \u001b[38;5;28menumerate\u001b[39m(\u001b[43mpages\u001b[49m):\n\u001b[32m     14\u001b[39m     \u001b[38;5;28;01mtry\u001b[39;00m:\n\u001b[32m     15\u001b[39m         \u001b[38;5;66;03m# Convert image to Base64\u001b[39;00m\n\u001b[32m     16\u001b[39m         image_buffer = BytesIO()\n",
      "\u001b[31mNameError\u001b[39m: name 'pages' is not defined"
     ]
    }
   ],
   "source": [
    "# Perform OCR on images using Vertex AI\n",
    "from dotenv import load_dotenv\n",
    "import requests\n",
    "import base64\n",
    "from google.auth.transport.requests import Request\n",
    "from google.oauth2 import id_token\n",
    "\n",
    "# Load environment variables\n",
    "load_dotenv()\n",
    "\n",
    "ocr_results = []\n",
    "\n",
    "for page_index, page_image in enumerate(pages):\n",
    "    try:\n",
    "        # Convert image to Base64\n",
    "        image_buffer = BytesIO()\n",
    "        page_image.save(image_buffer, format=\"PNG\")\n",
    "        image_buffer.seek(0)\n",
    "        image_base64 = base64.b64encode(image_buffer.read()).decode('utf-8')\n",
    "\n",
    "        # Prepare request payload\n",
    "        payload = {\n",
    "            \"instances\": [\n",
    "                {\"content\": {\"imageBytes\": image_base64}}\n",
    "            ]\n",
    "        }\n",
    "\n",
    "        # Get OAuth2 token\n",
    "        auth_request = Request()\n",
    "        token = id_token.fetch_id_token(auth_request, VERTEX_AI_ENDPOINT)\n",
    "\n",
    "        # Perform OCR using Vertex AI\n",
    "        headers = {\n",
    "            \"Authorization\": f\"Bearer {token}\",\n",
    "            \"Content-Type\": \"application/json\"\n",
    "        }\n",
    "        response = requests.post(VERTEX_AI_ENDPOINT, headers=headers, json=payload, timeout=10)\n",
    "\n",
    "        if response.status_code == 200:\n",
    "            ocr_text = response.json().get(\"predictions\", [{}])[0].get(\"text\", \"\")\n",
    "            ocr_results.append({\"page_index\": page_index, \"text\": ocr_text})\n",
    "            print(f\"OCR Text from page {page_index}:\", ocr_text)\n",
    "        else:\n",
    "            print(f\"Error from Vertex AI for page {page_index}: {response.text}\")\n",
    "\n",
    "    except requests.exceptions.RequestException as e:\n",
    "        print(f\"Request error on page {page_index}: {e}\")\n",
    "    except Exception as e:\n",
    "        print(f\"Error processing page {page_index}: {e}\")\n",
    "\n",
    "# Print summary of OCR results\n",
    "if ocr_results:\n",
    "    print(\"OCR completed successfully for the following pages:\")\n",
    "    for result in ocr_results:\n",
    "        print(f\"Page {result['page_index']}: {result['text'][:100]}...\")  # Print first 100 characters\n",
    "else:\n",
    "    print(\"No OCR results available.\")"
   ]
  },
  {
   "cell_type": "code",
   "execution_count": null,
   "id": "4b29b5f0",
   "metadata": {},
   "outputs": [],
   "source": [
    "# Generate Embeddings and Store in Milvus\n",
    "from langchain.embeddings import HuggingFaceEmbeddings\n",
    "\n",
    "# Initialize embeddings model\n",
    "embedding_model = HuggingFaceEmbeddings(model_name=\"sentence-transformers/all-MiniLM-L6-v2\")\n",
    "\n",
    "# Generate embeddings\n",
    "for doc in documents:\n",
    "    embedding = embedding_model.embed_query(doc.page_content)\n",
    "    collection.insert([[doc.metadata.get(\"id\", 0)], [embedding]])\n",
    "\n",
    "print(\"Embeddings stored in Milvus.\")"
   ]
  }
 ],
 "metadata": {
  "kernelspec": {
   "display_name": "venv",
   "language": "python",
   "name": "python3"
  },
  "language_info": {
   "codemirror_mode": {
    "name": "ipython",
    "version": 3
   },
   "file_extension": ".py",
   "mimetype": "text/x-python",
   "name": "python",
   "nbconvert_exporter": "python",
   "pygments_lexer": "ipython3",
   "version": "3.12.10"
  }
 },
 "nbformat": 4,
 "nbformat_minor": 5
}
