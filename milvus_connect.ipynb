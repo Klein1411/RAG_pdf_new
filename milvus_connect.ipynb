{
 "cells": [
  {
   "cell_type": "markdown",
   "id": "4681f38a",
   "metadata": {},
   "source": [
    "Set-ExecutionPolicy -Scope Process -ExecutionPolicy Bypass\n",
    ".\\venv\\Scripts\\activate"
   ]
  },
  {
   "cell_type": "code",
   "execution_count": null,
   "id": "17e8542a",
   "metadata": {},
   "outputs": [
    {
     "name": "stdout",
     "output_type": "stream",
     "text": [
      "✅ Loaded GEMINI_API_KEY, Milvus at localhost:19530\n"
     ]
    }
   ],
   "source": [
    "import os\n",
    "from dotenv import load_dotenv\n",
    "\n",
    "load_dotenv()  \n",
    "\n",
    "GEMINI_API_KEY = os.getenv(\"GEMINI_API_KEY\")\n",
    "MILVUS_HOST      = os.getenv(\"MILVUS_HOST\", \"localhost\")\n",
    "MILVUS_PORT      = os.getenv(\"MILVUS_PORT\", \"19530\")\n",
    "\n",
    "assert GEMINI_API_KEY, \"Thiếu GEMINI_API_KEY trong .env!\"\n",
    "print(f\" Loaded GEMINI_API_KEY, Milvus at {MILVUS_HOST}:{MILVUS_PORT}\")"
   ]
  },
  {
   "cell_type": "code",
   "execution_count": 7,
   "id": "996dc4c5",
   "metadata": {},
   "outputs": [
    {
     "name": "stdout",
     "output_type": "stream",
     "text": [
      "ℹ️ Collection `pdf_vectors` không tồn tại, bỏ qua bước xóa\n"
     ]
    }
   ],
   "source": [
    "from pymilvus import utility\n",
    "\n",
    "existing = utility.list_collections()\n",
    "collection_name = \"pdf_vectors\"\n",
    "if collection_name in existing:\n",
    "    utility.drop_collection(collection_name)\n",
    "    print(f\"🗑 Đã xóa collection `{collection_name}`\")\n",
    "else:\n",
    "    print(f\"ℹ️ Collection `{collection_name}` không tồn tại, bỏ qua bước xóa\")"
   ]
  },
  {
   "cell_type": "code",
   "execution_count": 8,
   "id": "6f26ef96",
   "metadata": {},
   "outputs": [
    {
     "name": "stdout",
     "output_type": "stream",
     "text": [
      "🆕 Created collection `pdf_vectors`\n"
     ]
    }
   ],
   "source": [
    "from pymilvus import connections, FieldSchema, CollectionSchema, DataType, Collection, utility\n",
    "connections.connect(alias=\"default\", host=MILVUS_HOST, port=MILVUS_PORT)\n",
    "\n",
    "#  Định nghĩa schema\n",
    "fields = [\n",
    "    FieldSchema(name=\"id\", dtype=DataType.INT64, is_primary=True, auto_id=True),\n",
    "    FieldSchema(name=\"embedding\", dtype=DataType.FLOAT_VECTOR, dim=768)\n",
    "]\n",
    "schema = CollectionSchema(fields, description=\"RAG PDF embeddings\")\n",
    "\n",
    "#  Tạo hoặc load collection\n",
    "collection_name = \"pdf_vectors\"\n",
    "existing = utility.list_collections()\n",
    "if collection_name not in existing:\n",
    "    collection = Collection(name=collection_name, schema=schema)\n",
    "    print(f\"🆕 Created collection `{collection_name}`\")\n",
    "else:\n",
    "    collection = Collection(name=collection_name)\n",
    "    print(f\"✔️ Loaded existing collection `{collection_name}`\")\n"
   ]
  },
  {
   "cell_type": "code",
   "execution_count": null,
   "id": "3f425039",
   "metadata": {},
   "outputs": [],
   "source": []
  }
 ],
 "metadata": {
  "kernelspec": {
   "display_name": "venv",
   "language": "python",
   "name": "python3"
  },
  "language_info": {
   "codemirror_mode": {
    "name": "ipython",
    "version": 3
   },
   "file_extension": ".py",
   "mimetype": "text/x-python",
   "name": "python",
   "nbconvert_exporter": "python",
   "pygments_lexer": "ipython3",
   "version": "3.12.10"
  }
 },
 "nbformat": 4,
 "nbformat_minor": 5
}
